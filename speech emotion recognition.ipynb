{
 "cells": [
  {
   "cell_type": "code",
   "execution_count": 70,
   "metadata": {},
   "outputs": [],
   "source": [
    "import tensorflow as tf\n",
    "import pandas as pd\n",
    "import numpy as np\n",
    "import matplotlib.pyplot as plt\n",
    "import keras\n",
    "import os\n",
    "import json\n",
    "import librosa\n",
    "from keras.models import Sequential\n",
    "from keras.layers import Dense\n",
    "from sklearn.metrics import confusion_matrix\n",
    "from sklearn.model_selection import train_test_split\n",
    "from tensorflow import keras\n",
    "from keras.layers import Dropout\n",
    "import keras\n",
    "from IPython.display import clear_output\n",
    "from sklearn.preprocessing import StandardScaler, OneHotEncoder\n",
    "from sklearn.metrics import confusion_matrix, classification_report\n",
    "from sklearn.model_selection import train_test_split\n",
    "import seaborn as sns\n",
    "import matplotlib.pyplot as plt\n",
    "# to play the audio files\n",
    "from IPython.display import Audio\n",
    "\n",
    "import keras\n",
    "from keras.callbacks import ReduceLROnPlateau\n",
    "from keras.models import Sequential\n",
    "from keras.layers import Dense, Conv1D, MaxPooling1D, Flatten, Dropout, BatchNormalization\n",
    "from keras.utils import np_utils\n",
    "from tensorflow.keras.utils import to_categorical\n",
    "from keras.callbacks import ModelCheckpoint"
   ]
  },
  {
   "cell_type": "code",
   "execution_count": 50,
   "metadata": {},
   "outputs": [],
   "source": [
    "Ravdess = \"dataset/\""
   ]
  },
  {
   "cell_type": "code",
   "execution_count": 51,
   "metadata": {},
   "outputs": [
    {
     "data": {
      "text/html": [
       "<div>\n",
       "<style scoped>\n",
       "    .dataframe tbody tr th:only-of-type {\n",
       "        vertical-align: middle;\n",
       "    }\n",
       "\n",
       "    .dataframe tbody tr th {\n",
       "        vertical-align: top;\n",
       "    }\n",
       "\n",
       "    .dataframe thead th {\n",
       "        text-align: right;\n",
       "    }\n",
       "</style>\n",
       "<table border=\"1\" class=\"dataframe\">\n",
       "  <thead>\n",
       "    <tr style=\"text-align: right;\">\n",
       "      <th></th>\n",
       "      <th>Emotions</th>\n",
       "      <th>Path</th>\n",
       "    </tr>\n",
       "  </thead>\n",
       "  <tbody>\n",
       "    <tr>\n",
       "      <th>0</th>\n",
       "      <td>neutral</td>\n",
       "      <td>dataset/Actor_01/03-01-01-01-01-01-01.wav</td>\n",
       "    </tr>\n",
       "    <tr>\n",
       "      <th>1</th>\n",
       "      <td>neutral</td>\n",
       "      <td>dataset/Actor_01/03-01-01-01-01-02-01.wav</td>\n",
       "    </tr>\n",
       "    <tr>\n",
       "      <th>2</th>\n",
       "      <td>neutral</td>\n",
       "      <td>dataset/Actor_01/03-01-01-01-02-01-01.wav</td>\n",
       "    </tr>\n",
       "    <tr>\n",
       "      <th>3</th>\n",
       "      <td>neutral</td>\n",
       "      <td>dataset/Actor_01/03-01-01-01-02-02-01.wav</td>\n",
       "    </tr>\n",
       "    <tr>\n",
       "      <th>4</th>\n",
       "      <td>calm</td>\n",
       "      <td>dataset/Actor_01/03-01-02-01-01-01-01.wav</td>\n",
       "    </tr>\n",
       "  </tbody>\n",
       "</table>\n",
       "</div>"
      ],
      "text/plain": [
       "  Emotions                                       Path\n",
       "0  neutral  dataset/Actor_01/03-01-01-01-01-01-01.wav\n",
       "1  neutral  dataset/Actor_01/03-01-01-01-01-02-01.wav\n",
       "2  neutral  dataset/Actor_01/03-01-01-01-02-01-01.wav\n",
       "3  neutral  dataset/Actor_01/03-01-01-01-02-02-01.wav\n",
       "4     calm  dataset/Actor_01/03-01-02-01-01-01-01.wav"
      ]
     },
     "execution_count": 51,
     "metadata": {},
     "output_type": "execute_result"
    }
   ],
   "source": [
    "ravdess_directory_list = os.listdir(Ravdess)\n",
    "\n",
    "file_emotion = []\n",
    "file_path = []\n",
    "for dir in ravdess_directory_list:\n",
    "    # as their are 20 different actors in our previous directory we need to extract files for each actor.\n",
    "    actor = os.listdir(Ravdess + dir)\n",
    "    for file in actor:\n",
    "        part = file.split('.')[0]\n",
    "        part = part.split('-')\n",
    "        # third part in each file represents the emotion associated to that file.\n",
    "        file_emotion.append(int(part[2]))\n",
    "        file_path.append(Ravdess + dir + '/' + file)\n",
    "        \n",
    "# dataframe for emotion of files\n",
    "emotion_df = pd.DataFrame(file_emotion, columns=['Emotions'])\n",
    "\n",
    "# dataframe for path of files.\n",
    "path_df = pd.DataFrame(file_path, columns=['Path'])\n",
    "data_path = pd.concat([emotion_df, path_df], axis=1)\n",
    "\n",
    "# changing integers to actual emotions.\n",
    "data_path.Emotions.replace({1:'neutral', 2:'calm', 3:'happy', 4:'sad', 5:'angry', 6:'fear', 7:'disgust', 8:'surprise'}, inplace=True)\n",
    "data_path.head()"
   ]
  },
  {
   "cell_type": "code",
   "execution_count": 52,
   "metadata": {},
   "outputs": [],
   "source": [
    "def noise(data):\n",
    "    noise_amp = 0.035*np.random.uniform()*np.amax(data)\n",
    "    data = data + noise_amp*np.random.normal(size=data.shape[0])\n",
    "    return data\n",
    "\n",
    "def stretch(data, rate=0.8):\n",
    "    return librosa.effects.time_stretch(data, rate)\n",
    "\n",
    "def shift(data):\n",
    "    shift_range = int(np.random.uniform(low=-5, high = 5)*1000)\n",
    "    return np.roll(data, shift_range)\n",
    "\n",
    "def pitch(data, sampling_rate, pitch_factor=0.7):\n",
    "    return librosa.effects.pitch_shift(data, sampling_rate, pitch_factor)\n",
    "\n",
    "# taking any example and checking for techniques.\n",
    "path = np.array(data_path.Path)[1]\n",
    "data, sample_rate = librosa.load(path)"
   ]
  },
  {
   "cell_type": "code",
   "execution_count": 53,
   "metadata": {},
   "outputs": [
    {
     "data": {
      "text/html": [
       "<div>\n",
       "<style scoped>\n",
       "    .dataframe tbody tr th:only-of-type {\n",
       "        vertical-align: middle;\n",
       "    }\n",
       "\n",
       "    .dataframe tbody tr th {\n",
       "        vertical-align: top;\n",
       "    }\n",
       "\n",
       "    .dataframe thead th {\n",
       "        text-align: right;\n",
       "    }\n",
       "</style>\n",
       "<table border=\"1\" class=\"dataframe\">\n",
       "  <thead>\n",
       "    <tr style=\"text-align: right;\">\n",
       "      <th></th>\n",
       "      <th>Emotions</th>\n",
       "      <th>Path</th>\n",
       "    </tr>\n",
       "  </thead>\n",
       "  <tbody>\n",
       "    <tr>\n",
       "      <th>0</th>\n",
       "      <td>neutral</td>\n",
       "      <td>dataset/Actor_01/03-01-01-01-01-01-01.wav</td>\n",
       "    </tr>\n",
       "    <tr>\n",
       "      <th>1</th>\n",
       "      <td>neutral</td>\n",
       "      <td>dataset/Actor_01/03-01-01-01-01-02-01.wav</td>\n",
       "    </tr>\n",
       "    <tr>\n",
       "      <th>2</th>\n",
       "      <td>neutral</td>\n",
       "      <td>dataset/Actor_01/03-01-01-01-02-01-01.wav</td>\n",
       "    </tr>\n",
       "    <tr>\n",
       "      <th>3</th>\n",
       "      <td>neutral</td>\n",
       "      <td>dataset/Actor_01/03-01-01-01-02-02-01.wav</td>\n",
       "    </tr>\n",
       "    <tr>\n",
       "      <th>4</th>\n",
       "      <td>calm</td>\n",
       "      <td>dataset/Actor_01/03-01-02-01-01-01-01.wav</td>\n",
       "    </tr>\n",
       "  </tbody>\n",
       "</table>\n",
       "</div>"
      ],
      "text/plain": [
       "  Emotions                                       Path\n",
       "0  neutral  dataset/Actor_01/03-01-01-01-01-01-01.wav\n",
       "1  neutral  dataset/Actor_01/03-01-01-01-01-02-01.wav\n",
       "2  neutral  dataset/Actor_01/03-01-01-01-02-01-01.wav\n",
       "3  neutral  dataset/Actor_01/03-01-01-01-02-02-01.wav\n",
       "4     calm  dataset/Actor_01/03-01-02-01-01-01-01.wav"
      ]
     },
     "execution_count": 53,
     "metadata": {},
     "output_type": "execute_result"
    }
   ],
   "source": [
    "data_path.to_csv(\"data_path.csv\",index=False)\n",
    "data_path.head()"
   ]
  },
  {
   "cell_type": "code",
   "execution_count": 54,
   "metadata": {},
   "outputs": [],
   "source": [
    "def extract_features(data):\n",
    "    # ZCR\n",
    "    result = np.array([])\n",
    "    zcr = np.mean(librosa.feature.zero_crossing_rate(y=data).T, axis=0)\n",
    "    result=np.hstack((result, zcr)) # stacking horizontally\n",
    "\n",
    "    # Chroma_stft\n",
    "    stft = np.abs(librosa.stft(data))\n",
    "    chroma_stft = np.mean(librosa.feature.chroma_stft(S=stft, sr=sample_rate).T, axis=0)\n",
    "    result = np.hstack((result, chroma_stft)) # stacking horizontally\n",
    "\n",
    "    # MFCC\n",
    "    mfcc = np.mean(librosa.feature.mfcc(y=data, sr=sample_rate).T, axis=0)\n",
    "    result = np.hstack((result, mfcc)) # stacking horizontally\n",
    "\n",
    "    # Root Mean Square Value\n",
    "    rms = np.mean(librosa.feature.rms(y=data).T, axis=0)\n",
    "    result = np.hstack((result, rms)) # stacking horizontally\n",
    "\n",
    "    # MelSpectogram\n",
    "    mel = np.mean(librosa.feature.melspectrogram(y=data, sr=sample_rate).T, axis=0)\n",
    "    result = np.hstack((result, mel)) # stacking horizontally\n",
    "\n",
    "    return result\n",
    "\n",
    "def get_features(path):\n",
    "    # duration and offset are used to take care of the no audio in start and the ending of each audio files as seen above.\n",
    "    data, sample_rate = librosa.load(path, duration=2.5, offset=0.6)\n",
    "    \n",
    "    # without augmentation\n",
    "    res1 = extract_features(data)\n",
    "    result = np.array(res1)\n",
    "    \n",
    "    # data with noise\n",
    "    noise_data = noise(data)\n",
    "    res2 = extract_features(noise_data)\n",
    "    result = np.vstack((result, res2)) # stacking vertically\n",
    "    \n",
    "    # data with stretching and pitching\n",
    "    new_data = stretch(data)\n",
    "    data_stretch_pitch = pitch(new_data, sample_rate)\n",
    "    res3 = extract_features(data_stretch_pitch)\n",
    "    result = np.vstack((result, res3)) # stacking vertically\n",
    "    \n",
    "    return result"
   ]
  },
  {
   "cell_type": "code",
   "execution_count": 55,
   "metadata": {},
   "outputs": [],
   "source": [
    "X, Y = [], []\n",
    "for path, emotion in zip(data_path.Path, data_path.Emotions):\n",
    "    feature = get_features(path)\n",
    "    for ele in feature:\n",
    "        X.append(ele)\n",
    "        # appending emotion 3 times as we have made 3 augmentation techniques on each audio file.\n",
    "        Y.append(emotion)"
   ]
  },
  {
   "cell_type": "code",
   "execution_count": 56,
   "metadata": {},
   "outputs": [
    {
     "data": {
      "text/plain": [
       "(4320, 4320, (1440,))"
      ]
     },
     "execution_count": 56,
     "metadata": {},
     "output_type": "execute_result"
    }
   ],
   "source": [
    "len(X), len(Y), data_path.Path.shape"
   ]
  },
  {
   "cell_type": "code",
   "execution_count": null,
   "metadata": {},
   "outputs": [],
   "source": [
    "Features = pd.DataFrame(X)\n",
    "Features['labels'] = Y\n",
    "Features.to_csv('features.csv', index=False)\n",
    "Features.head()"
   ]
  },
  {
   "cell_type": "code",
   "execution_count": 132,
   "metadata": {},
   "outputs": [],
   "source": [
    "Features = pd.read_csv('features.csv')\n",
    "X = Features.iloc[: ,:-1].values\n",
    "Y = Features['labels'].values"
   ]
  },
  {
   "cell_type": "code",
   "execution_count": 133,
   "metadata": {},
   "outputs": [],
   "source": [
    "# As this is a multiclass classification problem onehotencoding our Y.\n",
    "encoder = OneHotEncoder()\n",
    "Y = encoder.fit_transform(np.array(Y).reshape(-1,1)).toarray()"
   ]
  },
  {
   "cell_type": "code",
   "execution_count": 134,
   "metadata": {},
   "outputs": [
    {
     "data": {
      "text/plain": [
       "((3240, 162), (3240, 8), (1080, 162), (1080, 8))"
      ]
     },
     "execution_count": 134,
     "metadata": {},
     "output_type": "execute_result"
    }
   ],
   "source": [
    "x_train, x_test, y_train, y_test = train_test_split(X, Y, random_state=0, shuffle=True)\n",
    "x_train.shape, y_train.shape, x_test.shape, y_test.shape"
   ]
  },
  {
   "cell_type": "code",
   "execution_count": 135,
   "metadata": {},
   "outputs": [
    {
     "data": {
      "text/plain": [
       "((3240, 162), (3240, 8), (1080, 162), (1080, 8))"
      ]
     },
     "execution_count": 135,
     "metadata": {},
     "output_type": "execute_result"
    }
   ],
   "source": [
    "# scaling our data with sklearn's Standard scaler\n",
    "scaler = StandardScaler()\n",
    "x_train = scaler.fit_transform(x_train)\n",
    "x_test = scaler.transform(x_test)\n",
    "x_train.shape, y_train.shape, x_test.shape, y_test.shape"
   ]
  },
  {
   "cell_type": "code",
   "execution_count": 136,
   "metadata": {},
   "outputs": [
    {
     "data": {
      "text/plain": [
       "((3240, 162, 1), (3240, 8), (1080, 162, 1), (1080, 8))"
      ]
     },
     "execution_count": 136,
     "metadata": {},
     "output_type": "execute_result"
    }
   ],
   "source": [
    "# making our data compatible to model.\n",
    "x_train = np.expand_dims(x_train, axis=2)\n",
    "x_test = np.expand_dims(x_test, axis=2)\n",
    "x_train.shape, y_train.shape, x_test.shape, y_test.shape"
   ]
  },
  {
   "cell_type": "code",
   "execution_count": 137,
   "metadata": {},
   "outputs": [
    {
     "name": "stdout",
     "output_type": "stream",
     "text": [
      "Model: \"sequential_10\"\n",
      "_________________________________________________________________\n",
      "Layer (type)                 Output Shape              Param #   \n",
      "=================================================================\n",
      "conv1d_34 (Conv1D)           (None, 162, 256)          1536      \n",
      "_________________________________________________________________\n",
      "max_pooling1d_34 (MaxPooling (None, 81, 256)           0         \n",
      "_________________________________________________________________\n",
      "conv1d_35 (Conv1D)           (None, 81, 128)           163968    \n",
      "_________________________________________________________________\n",
      "max_pooling1d_35 (MaxPooling (None, 41, 128)           0         \n",
      "_________________________________________________________________\n",
      "dropout_20 (Dropout)         (None, 41, 128)           0         \n",
      "_________________________________________________________________\n",
      "conv1d_36 (Conv1D)           (None, 41, 64)            41024     \n",
      "_________________________________________________________________\n",
      "max_pooling1d_36 (MaxPooling (None, 21, 64)            0         \n",
      "_________________________________________________________________\n",
      "flatten_10 (Flatten)         (None, 1344)              0         \n",
      "_________________________________________________________________\n",
      "dense_20 (Dense)             (None, 32)                43040     \n",
      "_________________________________________________________________\n",
      "dropout_21 (Dropout)         (None, 32)                0         \n",
      "_________________________________________________________________\n",
      "dense_21 (Dense)             (None, 8)                 264       \n",
      "=================================================================\n",
      "Total params: 249,832\n",
      "Trainable params: 249,832\n",
      "Non-trainable params: 0\n",
      "_________________________________________________________________\n"
     ]
    }
   ],
   "source": [
    "model=Sequential()\n",
    "model.add(Conv1D(256, kernel_size=5, strides=1, padding='same', activation='relu', input_shape=(x_train.shape[1], 1)))\n",
    "model.add(MaxPooling1D(pool_size=5, strides = 2, padding = 'same'))\n",
    "\n",
    "#model.add(Conv1D(256, kernel_size=5, strides=1, padding='same', activation='relu'))\n",
    "#model.add(MaxPooling1D(pool_size=5, strides = 2, padding = 'same'))\n",
    "\n",
    "model.add(Conv1D(128, kernel_size=5, strides=1, padding='same', activation='relu'))\n",
    "model.add(MaxPooling1D(pool_size=5, strides = 2, padding = 'same'))\n",
    "model.add(Dropout(0.2))\n",
    "\n",
    "model.add(Conv1D(64, kernel_size=5, strides=1, padding='same', activation='relu'))\n",
    "model.add(MaxPooling1D(pool_size=5, strides = 2, padding = 'same'))\n",
    "\n",
    "model.add(Flatten())\n",
    "model.add(Dense(units=32, activation='relu'))\n",
    "model.add(Dropout(0.3))\n",
    "\n",
    "model.add(Dense(units=8, activation='softmax'))\n",
    "model.compile(optimizer = 'adam' , loss = 'categorical_crossentropy' , metrics = ['accuracy'])\n",
    "\n",
    "model.summary()"
   ]
  },
  {
   "cell_type": "code",
   "execution_count": 138,
   "metadata": {},
   "outputs": [
    {
     "name": "stdout",
     "output_type": "stream",
     "text": [
      "Epoch 1/50\n",
      "102/102 [==============================] - 4s 30ms/step - loss: 2.0449 - accuracy: 0.1819 - val_loss: 1.8578 - val_accuracy: 0.2815\n",
      "Epoch 2/50\n",
      "102/102 [==============================] - 3s 26ms/step - loss: 1.8884 - accuracy: 0.2410 - val_loss: 1.7190 - val_accuracy: 0.3731\n",
      "Epoch 3/50\n",
      "102/102 [==============================] - 3s 26ms/step - loss: 1.8082 - accuracy: 0.2898 - val_loss: 1.6524 - val_accuracy: 0.3843\n",
      "Epoch 4/50\n",
      "102/102 [==============================] - 3s 27ms/step - loss: 1.7399 - accuracy: 0.3329 - val_loss: 1.6052 - val_accuracy: 0.3778\n",
      "Epoch 5/50\n",
      "102/102 [==============================] - 3s 27ms/step - loss: 1.7153 - accuracy: 0.3426 - val_loss: 1.5892 - val_accuracy: 0.4213\n",
      "Epoch 6/50\n",
      "102/102 [==============================] - 3s 26ms/step - loss: 1.6702 - accuracy: 0.3608 - val_loss: 1.5335 - val_accuracy: 0.4093\n",
      "Epoch 7/50\n",
      "102/102 [==============================] - 3s 27ms/step - loss: 1.6055 - accuracy: 0.3842 - val_loss: 1.5106 - val_accuracy: 0.4352\n",
      "Epoch 8/50\n",
      "102/102 [==============================] - 3s 28ms/step - loss: 1.5901 - accuracy: 0.3819 - val_loss: 1.5358 - val_accuracy: 0.4167\n",
      "Epoch 9/50\n",
      "102/102 [==============================] - 3s 27ms/step - loss: 1.5481 - accuracy: 0.3965 - val_loss: 1.4914 - val_accuracy: 0.4509\n",
      "Epoch 10/50\n",
      "102/102 [==============================] - 3s 27ms/step - loss: 1.5845 - accuracy: 0.3962 - val_loss: 1.4143 - val_accuracy: 0.4861\n",
      "Epoch 11/50\n",
      "102/102 [==============================] - 3s 25ms/step - loss: 1.4975 - accuracy: 0.4387 - val_loss: 1.4217 - val_accuracy: 0.4648\n",
      "Epoch 12/50\n",
      "102/102 [==============================] - 3s 25ms/step - loss: 1.4622 - accuracy: 0.4366 - val_loss: 1.3737 - val_accuracy: 0.4935\n",
      "Epoch 13/50\n",
      "102/102 [==============================] - 3s 25ms/step - loss: 1.4180 - accuracy: 0.4425 - val_loss: 1.3689 - val_accuracy: 0.4898\n",
      "Epoch 14/50\n",
      "102/102 [==============================] - 3s 27ms/step - loss: 1.3788 - accuracy: 0.4628 - val_loss: 1.3284 - val_accuracy: 0.5120\n",
      "Epoch 15/50\n",
      "102/102 [==============================] - 3s 28ms/step - loss: 1.3858 - accuracy: 0.4685 - val_loss: 1.3078 - val_accuracy: 0.5213\n",
      "Epoch 16/50\n",
      "102/102 [==============================] - 3s 27ms/step - loss: 1.3799 - accuracy: 0.4865 - val_loss: 1.2975 - val_accuracy: 0.5130\n",
      "Epoch 17/50\n",
      "102/102 [==============================] - 3s 26ms/step - loss: 1.3187 - accuracy: 0.4993 - val_loss: 1.2821 - val_accuracy: 0.5241\n",
      "Epoch 18/50\n",
      "102/102 [==============================] - 3s 26ms/step - loss: 1.3165 - accuracy: 0.4935 - val_loss: 1.2634 - val_accuracy: 0.5269\n",
      "Epoch 19/50\n",
      "102/102 [==============================] - 3s 26ms/step - loss: 1.2974 - accuracy: 0.5136 - val_loss: 1.2205 - val_accuracy: 0.5537\n",
      "Epoch 20/50\n",
      "102/102 [==============================] - 3s 26ms/step - loss: 1.2423 - accuracy: 0.5274 - val_loss: 1.1922 - val_accuracy: 0.5602\n",
      "Epoch 21/50\n",
      "102/102 [==============================] - 3s 26ms/step - loss: 1.2275 - accuracy: 0.5274 - val_loss: 1.2089 - val_accuracy: 0.5463\n",
      "Epoch 22/50\n",
      "102/102 [==============================] - 3s 27ms/step - loss: 1.1889 - accuracy: 0.5468 - val_loss: 1.1565 - val_accuracy: 0.5824\n",
      "Epoch 23/50\n",
      "102/102 [==============================] - 3s 26ms/step - loss: 1.1709 - accuracy: 0.5587 - val_loss: 1.1621 - val_accuracy: 0.5713\n",
      "Epoch 24/50\n",
      "102/102 [==============================] - 3s 26ms/step - loss: 1.1712 - accuracy: 0.5412 - val_loss: 1.1636 - val_accuracy: 0.5713\n",
      "Epoch 25/50\n",
      "102/102 [==============================] - 3s 26ms/step - loss: 1.1246 - accuracy: 0.5564 - val_loss: 1.1607 - val_accuracy: 0.5611\n",
      "Epoch 26/50\n",
      "102/102 [==============================] - 3s 26ms/step - loss: 1.1454 - accuracy: 0.5588 - val_loss: 1.1273 - val_accuracy: 0.5731\n",
      "Epoch 27/50\n",
      "102/102 [==============================] - 3s 26ms/step - loss: 1.0832 - accuracy: 0.5974 - val_loss: 1.1259 - val_accuracy: 0.5843\n",
      "Epoch 28/50\n",
      "102/102 [==============================] - 3s 27ms/step - loss: 1.0695 - accuracy: 0.6071 - val_loss: 1.1596 - val_accuracy: 0.5417\n",
      "Epoch 29/50\n",
      "102/102 [==============================] - 3s 26ms/step - loss: 1.0111 - accuracy: 0.6121 - val_loss: 1.0936 - val_accuracy: 0.6009\n",
      "Epoch 30/50\n",
      "102/102 [==============================] - 3s 27ms/step - loss: 1.0169 - accuracy: 0.6120 - val_loss: 1.0725 - val_accuracy: 0.5944\n",
      "Epoch 31/50\n",
      "102/102 [==============================] - 3s 31ms/step - loss: 0.9629 - accuracy: 0.6456 - val_loss: 1.1289 - val_accuracy: 0.5639\n",
      "Epoch 32/50\n",
      "102/102 [==============================] - 3s 26ms/step - loss: 1.0118 - accuracy: 0.6189 - val_loss: 1.0951 - val_accuracy: 0.5898\n",
      "Epoch 33/50\n",
      "102/102 [==============================] - 3s 26ms/step - loss: 0.9678 - accuracy: 0.6271 - val_loss: 1.0852 - val_accuracy: 0.5870\n",
      "Epoch 34/50\n",
      "102/102 [==============================] - 3s 26ms/step - loss: 0.9355 - accuracy: 0.6416 - val_loss: 1.1106 - val_accuracy: 0.5889\n",
      "Epoch 35/50\n",
      "102/102 [==============================] - 3s 25ms/step - loss: 0.9371 - accuracy: 0.6399 - val_loss: 1.0867 - val_accuracy: 0.5954\n",
      "Epoch 36/50\n",
      "102/102 [==============================] - 3s 25ms/step - loss: 0.8886 - accuracy: 0.6694 - val_loss: 1.1134 - val_accuracy: 0.6009\n",
      "Epoch 37/50\n",
      "102/102 [==============================] - 3s 26ms/step - loss: 0.8955 - accuracy: 0.6585 - val_loss: 1.0930 - val_accuracy: 0.5954\n",
      "Epoch 38/50\n",
      "102/102 [==============================] - 3s 25ms/step - loss: 0.9366 - accuracy: 0.6384 - val_loss: 1.0823 - val_accuracy: 0.6037\n",
      "Epoch 39/50\n",
      "102/102 [==============================] - 3s 25ms/step - loss: 0.8916 - accuracy: 0.6675 - val_loss: 1.0669 - val_accuracy: 0.6315\n",
      "Epoch 40/50\n",
      "102/102 [==============================] - 3s 26ms/step - loss: 0.8367 - accuracy: 0.6878 - val_loss: 1.0768 - val_accuracy: 0.6139\n",
      "Epoch 41/50\n",
      "102/102 [==============================] - 3s 26ms/step - loss: 0.8364 - accuracy: 0.6825 - val_loss: 1.0984 - val_accuracy: 0.5991\n",
      "Epoch 42/50\n",
      "102/102 [==============================] - 3s 26ms/step - loss: 0.7942 - accuracy: 0.7009 - val_loss: 1.0656 - val_accuracy: 0.6185\n",
      "Epoch 43/50\n",
      "102/102 [==============================] - 3s 25ms/step - loss: 0.7672 - accuracy: 0.7099 - val_loss: 1.0344 - val_accuracy: 0.6241\n",
      "Epoch 44/50\n",
      "102/102 [==============================] - 3s 25ms/step - loss: 0.7565 - accuracy: 0.7224 - val_loss: 1.0203 - val_accuracy: 0.6343\n",
      "Epoch 45/50\n",
      "102/102 [==============================] - 3s 25ms/step - loss: 0.7417 - accuracy: 0.7069 - val_loss: 1.0619 - val_accuracy: 0.6389\n",
      "Epoch 46/50\n",
      "102/102 [==============================] - 3s 27ms/step - loss: 0.7946 - accuracy: 0.7020 - val_loss: 1.0755 - val_accuracy: 0.6185\n",
      "Epoch 47/50\n",
      "102/102 [==============================] - 3s 26ms/step - loss: 0.8028 - accuracy: 0.6994 - val_loss: 1.0603 - val_accuracy: 0.6296\n",
      "Epoch 48/50\n",
      "102/102 [==============================] - 3s 25ms/step - loss: 0.7476 - accuracy: 0.6994 - val_loss: 1.1155 - val_accuracy: 0.6009\n",
      "Epoch 49/50\n",
      "102/102 [==============================] - 3s 25ms/step - loss: 0.7633 - accuracy: 0.7072 - val_loss: 1.0896 - val_accuracy: 0.6250\n",
      "Epoch 50/50\n",
      "102/102 [==============================] - 3s 26ms/step - loss: 0.6825 - accuracy: 0.7413 - val_loss: 1.0522 - val_accuracy: 0.6380\n"
     ]
    }
   ],
   "source": [
    "rlrp = ReduceLROnPlateau(monitor='loss', factor=0.4, verbose=0, patience=0, min_lr=0.001)\n",
    "history=model.fit(x_train, y_train, batch_size=32, epochs=50, validation_data=(x_test, y_test), callbacks=[rlrp])"
   ]
  },
  {
   "cell_type": "code",
   "execution_count": 139,
   "metadata": {},
   "outputs": [
    {
     "name": "stdout",
     "output_type": "stream",
     "text": [
      "34/34 [==============================] - 0s 5ms/step - loss: 1.0522 - accuracy: 0.6380\n",
      "Accuracy of our model on test data :  63.79629373550415 %\n"
     ]
    },
    {
     "data": {
      "image/png": "[encoded data removed]",
      "text/plain": [
       "<Figure size 1440x432 with 2 Axes>"
      ]
     },
     "metadata": {
      "needs_background": "light"
     },
     "output_type": "display_data"
    }
   ],
   "source": [
    "print(\"Accuracy of our model on test data : \" , model.evaluate(x_test,y_test)[1]*100 , \"%\")\n",
    "\n",
    "epochs = [i for i in range(50)]\n",
    "fig , ax = plt.subplots(1,2)\n",
    "train_acc = history.history['accuracy']\n",
    "train_loss = history.history['loss']\n",
    "test_acc = history.history['val_accuracy']\n",
    "test_loss = history.history['val_loss']\n",
    "\n",
    "fig.set_size_inches(20,6)\n",
    "ax[0].plot(epochs , train_loss , label = 'Training Loss')\n",
    "ax[0].plot(epochs , test_loss , label = 'Testing Loss')\n",
    "ax[0].set_title('Training & Testing Loss')\n",
    "ax[0].legend()\n",
    "ax[0].set_xlabel(\"Epochs\")\n",
    "\n",
    "ax[1].plot(epochs , train_acc , label = 'Training Accuracy')\n",
    "ax[1].plot(epochs , test_acc , label = 'Testing Accuracy')\n",
    "ax[1].set_title('Training & Testing Accuracy')\n",
    "ax[1].legend()\n",
    "ax[1].set_xlabel(\"Epochs\")\n",
    "plt.show()"
   ]
  },
  {
   "cell_type": "code",
   "execution_count": 141,
   "metadata": {},
   "outputs": [],
   "source": [
    "# predicting on test data.\n",
    "pred_test = model.predict(x_test)\n",
    "y_pred = encoder.inverse_transform(pred_test)\n",
    "\n",
    "y_test = encoder.inverse_transform(y_test)"
   ]
  },
  {
   "cell_type": "code",
   "execution_count": 142,
   "metadata": {},
   "outputs": [
    {
     "data": {
      "text/html": [
       "<div>\n",
       "<style scoped>\n",
       "    .dataframe tbody tr th:only-of-type {\n",
       "        vertical-align: middle;\n",
       "    }\n",
       "\n",
       "    .dataframe tbody tr th {\n",
       "        vertical-align: top;\n",
       "    }\n",
       "\n",
       "    .dataframe thead th {\n",
       "        text-align: right;\n",
       "    }\n",
       "</style>\n",
       "<table border=\"1\" class=\"dataframe\">\n",
       "  <thead>\n",
       "    <tr style=\"text-align: right;\">\n",
       "      <th></th>\n",
       "      <th>Predicted Labels</th>\n",
       "      <th>Actual Labels</th>\n",
       "    </tr>\n",
       "  </thead>\n",
       "  <tbody>\n",
       "    <tr>\n",
       "      <th>0</th>\n",
       "      <td>fear</td>\n",
       "      <td>fear</td>\n",
       "    </tr>\n",
       "    <tr>\n",
       "      <th>1</th>\n",
       "      <td>angry</td>\n",
       "      <td>angry</td>\n",
       "    </tr>\n",
       "    <tr>\n",
       "      <th>2</th>\n",
       "      <td>fear</td>\n",
       "      <td>fear</td>\n",
       "    </tr>\n",
       "    <tr>\n",
       "      <th>3</th>\n",
       "      <td>calm</td>\n",
       "      <td>calm</td>\n",
       "    </tr>\n",
       "    <tr>\n",
       "      <th>4</th>\n",
       "      <td>angry</td>\n",
       "      <td>angry</td>\n",
       "    </tr>\n",
       "    <tr>\n",
       "      <th>5</th>\n",
       "      <td>surprise</td>\n",
       "      <td>surprise</td>\n",
       "    </tr>\n",
       "    <tr>\n",
       "      <th>6</th>\n",
       "      <td>surprise</td>\n",
       "      <td>fear</td>\n",
       "    </tr>\n",
       "    <tr>\n",
       "      <th>7</th>\n",
       "      <td>happy</td>\n",
       "      <td>happy</td>\n",
       "    </tr>\n",
       "    <tr>\n",
       "      <th>8</th>\n",
       "      <td>fear</td>\n",
       "      <td>fear</td>\n",
       "    </tr>\n",
       "    <tr>\n",
       "      <th>9</th>\n",
       "      <td>happy</td>\n",
       "      <td>sad</td>\n",
       "    </tr>\n",
       "  </tbody>\n",
       "</table>\n",
       "</div>"
      ],
      "text/plain": [
       "  Predicted Labels Actual Labels\n",
       "0             fear          fear\n",
       "1            angry         angry\n",
       "2             fear          fear\n",
       "3             calm          calm\n",
       "4            angry         angry\n",
       "5         surprise      surprise\n",
       "6         surprise          fear\n",
       "7            happy         happy\n",
       "8             fear          fear\n",
       "9            happy           sad"
      ]
     },
     "execution_count": 142,
     "metadata": {},
     "output_type": "execute_result"
    }
   ],
   "source": [
    "df = pd.DataFrame(columns=['Predicted Labels', 'Actual Labels'])\n",
    "df['Predicted Labels'] = y_pred.flatten()\n",
    "df['Actual Labels'] = y_test.flatten()\n",
    "\n",
    "df.head(10)"
   ]
  },
  {
   "cell_type": "code",
   "execution_count": 143,
   "metadata": {},
   "outputs": [
    {
     "data": {
      "image/png": "[encoded data removed]",
      "text/plain": [
       "<Figure size 864x720 with 2 Axes>"
      ]
     },
     "metadata": {
      "needs_background": "light"
     },
     "output_type": "display_data"
    }
   ],
   "source": [
    "cm = confusion_matrix(y_test, y_pred)\n",
    "plt.figure(figsize = (12, 10))\n",
    "cm = pd.DataFrame(cm , index = [i for i in encoder.categories_] , columns = [i for i in encoder.categories_])\n",
    "sns.heatmap(cm, linecolor='white', cmap='Blues', linewidth=1, annot=True, fmt='')\n",
    "plt.title('Confusion Matrix', size=20)\n",
    "plt.xlabel('Predicted Labels', size=14)\n",
    "plt.ylabel('Actual Labels', size=14)\n",
    "plt.show()"
   ]
  },
  {
   "cell_type": "code",
   "execution_count": 144,
   "metadata": {},
   "outputs": [
    {
     "name": "stdout",
     "output_type": "stream",
     "text": [
      "              precision    recall  f1-score   support\n",
      "\n",
      "       angry       0.67      0.66      0.67       132\n",
      "        calm       0.75      0.81      0.78       159\n",
      "     disgust       0.62      0.48      0.54       135\n",
      "        fear       0.68      0.64      0.66       151\n",
      "       happy       0.56      0.66      0.61       141\n",
      "     neutral       0.49      0.46      0.47        72\n",
      "         sad       0.56      0.52      0.54       151\n",
      "    surprise       0.67      0.76      0.71       139\n",
      "\n",
      "    accuracy                           0.64      1080\n",
      "   macro avg       0.63      0.62      0.62      1080\n",
      "weighted avg       0.64      0.64      0.63      1080\n",
      "\n"
     ]
    }
   ],
   "source": [
    "print(classification_report(y_test, y_pred))"
   ]
  },
  {
   "cell_type": "code",
   "execution_count": 145,
   "metadata": {},
   "outputs": [
    {
     "data": {
      "text/plain": [
       "array([['fear'],\n",
       "       ['angry'],\n",
       "       ['fear'],\n",
       "       ...,\n",
       "       ['surprise'],\n",
       "       ['calm'],\n",
       "       ['sad']], dtype=object)"
      ]
     },
     "execution_count": 145,
     "metadata": {},
     "output_type": "execute_result"
    }
   ],
   "source": [
    "y_pred"
   ]
  },
  {
   "cell_type": "code",
   "execution_count": 146,
   "metadata": {},
   "outputs": [],
   "source": [
    "import visualkeras"
   ]
  },
  {
   "cell_type": "code",
   "execution_count": 147,
   "metadata": {},
   "outputs": [],
   "source": [
    "from keras.models import load_model\n",
    "\n",
    "model.save('emotions_mode.h5')"
   ]
  },
  {
   "cell_type": "code",
   "execution_count": null,
   "metadata": {},
   "outputs": [],
   "source": []
  }
 ],
 "metadata": {
  "kernelspec": {
   "display_name": "Python 3",
   "language": "python",
   "name": "python3"
  },
  "language_info": {
   "codemirror_mode": {
    "name": "ipython",
    "version": 3
   },
   "file_extension": ".py",
   "mimetype": "text/x-python",
   "name": "python",
   "nbconvert_exporter": "python",
   "pygments_lexer": "ipython3",
   "version": "3.8.3"
  }
 },
 "nbformat": 4,
 "nbformat_minor": 4
}
