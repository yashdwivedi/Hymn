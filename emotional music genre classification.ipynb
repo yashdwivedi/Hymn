{
 "cells": [
  {
   "cell_type": "code",
   "execution_count": 41,
   "metadata": {},
   "outputs": [],
   "source": [
    "import tensorflow as tf\n",
    "import pandas as pd\n",
    "import numpy as np\n",
    "import matplotlib.pyplot as plt\n",
    "import keras\n",
    "import os\n",
    "import json\n",
    "import librosa\n",
    "from keras.models import Sequential\n",
    "from keras.layers import Dense\n",
    "import seaborn as sns\n",
    "from sklearn.metrics import confusion_matrix\n",
    "from sklearn.model_selection import train_test_split\n",
    "from sklearn.metrics import confusion_matrix, classification_report\n",
    "from tensorflow import keras\n",
    "from keras.layers import Dropout\n",
    "import keras\n",
    "from IPython.display import clear_output"
   ]
  },
  {
   "cell_type": "code",
   "execution_count": 10,
   "metadata": {},
   "outputs": [
    {
     "name": "stdout",
     "output_type": "stream",
     "text": [
      "yash\n"
     ]
    }
   ],
   "source": [
    "print(\"yash\")"
   ]
  },
  {
   "cell_type": "code",
   "execution_count": 11,
   "metadata": {},
   "outputs": [],
   "source": [
    "SOURCE_PATH = 'genres_emotion/'\n",
    "JSON_PATH = 'data.json'\n",
    "sr = 22050\n",
    "TOTAL_SAMPLES = 29 * sr\n",
    "NUM_SLICES = 10\n",
    "SAMPLES_PER_SLICE = int(TOTAL_SAMPLES / NUM_SLICES)"
   ]
  },
  {
   "cell_type": "code",
   "execution_count": 12,
   "metadata": {},
   "outputs": [],
   "source": [
    "def preprocess_data(source_path, json_path):\n",
    "    mydict = {\n",
    "        \"labels\": [],\n",
    "        \"mfcc\": []\n",
    "    }\n",
    "    for i, (dirpath, dirnames, filenames) in enumerate(os.walk(source_path)):\n",
    "        for file in filenames:\n",
    "            song, sr = librosa.load(os.path.join(dirpath, file), duration=29)\n",
    "            for s in range(NUM_SLICES):\n",
    "                start_sample = SAMPLES_PER_SLICE * s\n",
    "                end_sample = start_sample + SAMPLES_PER_SLICE\n",
    "                mfcc = librosa.feature.mfcc(y=song[start_sample:end_sample], sr=sr, n_mfcc=13)\n",
    "                mfcc = mfcc.T\n",
    "                mydict[\"labels\"].append(i-1)\n",
    "                mydict['mfcc'].append(mfcc.tolist())\n",
    "    \n",
    "    with open(json_path, 'w') as f:\n",
    "        json.dump(mydict, f)\n",
    "    f.close()"
   ]
  },
  {
   "cell_type": "code",
   "execution_count": 13,
   "metadata": {},
   "outputs": [],
   "source": [
    "def load_data(json_path):\n",
    "\n",
    "    with open(json_path, 'r') as f:\n",
    "        data = json.load(f)\n",
    "    f.close()\n",
    "\n",
    "    # Let's load our data into numpy arrays for TensorFlow compatibility.\n",
    "    X = np.array(data[\"mfcc\"])\n",
    "    y = np.array(data[\"labels\"])\n",
    "\n",
    "    return X, y"
   ]
  },
  {
   "cell_type": "code",
   "execution_count": 14,
   "metadata": {},
   "outputs": [],
   "source": [
    "preprocess_data(source_path=SOURCE_PATH, json_path=JSON_PATH)"
   ]
  },
  {
   "cell_type": "code",
   "execution_count": 15,
   "metadata": {
    "collapsed": true,
    "jupyter": {
     "outputs_hidden": true
    }
   },
   "outputs": [
    {
     "name": "stdout",
     "output_type": "stream",
     "text": [
      "0\n",
      "genres_emotion/\n",
      "['angry', 'calm', 'happy', 'sad']\n",
      "[]\n",
      "1\n",
      "genres_emotion/angry\n",
      "[]\n",
      "['blues.00016.wav', 'blues.00019.wav', 'blues.00040.wav', 'blues.00041.wav', 'blues.00042.wav', 'blues.00043.wav', 'blues.00044.wav', 'blues.00053.wav', 'blues.00054.wav', 'blues.00062.wav', 'blues.00066.wav', 'blues.00070.wav', 'blues.00071.wav', 'blues.00074.wav', 'blues.00078.wav', 'blues.00079.wav', 'blues.00081.wav', 'blues.00094.wav', 'classical.00018.wav', 'classical.00020.wav', 'classical.00021.wav', 'classical.00022.wav', 'classical.00024.wav', 'classical.00025.wav', 'classical.00026.wav', 'classical.00037.wav', 'classical.00042.wav', 'classical.00049.wav', 'classical.00053.wav', 'classical.00054.wav', 'classical.00055.wav', 'classical.00056.wav', 'classical.00081.wav', 'classical.00082.wav', 'classical.00083.wav', 'classical.00084.wav', 'classical.00085.wav', 'classical.00086.wav', 'classical.00087.wav', 'classical.00088.wav', 'classical.00089.wav', 'classical.00096.wav', 'classical.00097.wav', 'classical.00098.wav', 'classical.00099.wav', 'country.00009.wav', 'country.00024.wav', 'country.00038.wav', 'country.00039.wav', 'country.00040.wav', 'country.00041.wav', 'country.00042.wav', 'country.00043.wav', 'country.00075.wav', 'country.00090.wav', 'country.00092.wav', 'disco.00001.wav', 'disco.00008.wav', 'disco.00021.wav', 'disco.00049.wav', 'disco.00050.wav', 'disco.00051.wav', 'disco.00052.wav', 'disco.00053.wav', 'disco.00054.wav', 'disco.00055.wav', 'disco.00056.wav', 'disco.00057.wav', 'disco.00058.wav', 'disco.00059.wav', 'disco.00060.wav', 'disco.00061.wav', 'disco.00062.wav', 'disco.00063.wav', 'disco.00064.wav', 'disco.00065.wav', 'disco.00066.wav', 'disco.00067.wav', 'disco.00068.wav', 'disco.00069.wav', 'disco.00070.wav', 'disco.00071.wav', 'disco.00072.wav', 'disco.00073.wav', 'disco.00074.wav', 'disco.00075.wav', 'disco.00076.wav', 'disco.00077.wav', 'disco.00078.wav', 'disco.00079.wav', 'disco.00080.wav', 'disco.00081.wav', 'disco.00082.wav', 'disco.00083.wav', 'disco.00084.wav', 'disco.00085.wav', 'disco.00086.wav', 'disco.00087.wav', 'disco.00088.wav', 'disco.00089.wav', 'disco.00090.wav', 'disco.00091.wav', 'disco.00092.wav', 'disco.00093.wav', 'disco.00094.wav', 'disco.00095.wav', 'disco.00096.wav', 'disco.00097.wav', 'disco.00098.wav', 'disco.00099.wav', 'hiphop.00001.wav', 'hiphop.00002.wav', 'hiphop.00003.wav', 'hiphop.00005.wav', 'hiphop.00008.wav', 'hiphop.00009.wav', 'hiphop.00010.wav', 'hiphop.00011.wav', 'hiphop.00012.wav', 'hiphop.00013.wav', 'hiphop.00014.wav', 'hiphop.00015.wav', 'hiphop.00016.wav', 'hiphop.00017.wav', 'hiphop.00018.wav', 'hiphop.00019.wav', 'hiphop.00020.wav', 'hiphop.00021.wav', 'hiphop.00022.wav', 'hiphop.00023.wav', 'hiphop.00024.wav', 'hiphop.00025.wav', 'hiphop.00034.wav', 'hiphop.00038.wav', 'hiphop.00041.wav', 'hiphop.00049.wav', 'hiphop.00056.wav', 'hiphop.00057.wav', 'hiphop.00058.wav', 'hiphop.00059.wav', 'hiphop.00060.wav', 'hiphop.00061.wav', 'hiphop.00062.wav', 'hiphop.00063.wav', 'hiphop.00064.wav', 'hiphop.00065.wav', 'hiphop.00066.wav', 'hiphop.00067.wav', 'hiphop.00068.wav', 'hiphop.00069.wav', 'hiphop.00070.wav', 'hiphop.00079.wav', 'hiphop.00080.wav', 'hiphop.00081.wav', 'hiphop.00082.wav', 'hiphop.00083.wav', 'hiphop.00084.wav', 'hiphop.00085.wav', 'hiphop.00086.wav', 'hiphop.00087.wav', 'hiphop.00088.wav', 'hiphop.00089.wav', 'hiphop.00090.wav', 'hiphop.00091.wav', 'hiphop.00092.wav', 'hiphop.00093.wav', 'hiphop.00094.wav', 'hiphop.00095.wav', 'hiphop.00096.wav', 'hiphop.00097.wav', 'hiphop.00098.wav', 'hiphop.00099.wav', 'jazz.00010.wav', 'jazz.00031.wav', 'jazz.00066.wav', 'jazz.00073.wav', 'jazz.00075.wav', 'metal.00000.wav', 'metal.00001.wav', 'metal.00002.wav', 'metal.00003.wav', 'metal.00004.wav', 'metal.00005.wav', 'metal.00006.wav', 'metal.00007.wav', 'metal.00008.wav', 'metal.00009.wav', 'metal.00010.wav', 'metal.00011.wav', 'metal.00012.wav', 'metal.00013.wav', 'metal.00014.wav', 'metal.00015.wav', 'metal.00016.wav', 'metal.00017.wav', 'metal.00018.wav', 'metal.00019.wav', 'metal.00020.wav', 'metal.00021.wav', 'metal.00022.wav', 'metal.00023.wav', 'metal.00024.wav', 'metal.00025.wav', 'metal.00026.wav', 'metal.00027.wav', 'metal.00028.wav', 'metal.00029.wav', 'metal.00030.wav', 'metal.00031.wav', 'metal.00032.wav', 'metal.00033.wav', 'metal.00034.wav', 'metal.00035.wav', 'metal.00036.wav', 'metal.00037.wav', 'metal.00038.wav', 'metal.00039.wav', 'metal.00040.wav', 'metal.00041.wav', 'metal.00042.wav', 'metal.00043.wav', 'metal.00044.wav', 'metal.00045.wav', 'metal.00046.wav', 'metal.00047.wav', 'metal.00048.wav', 'metal.00049.wav', 'metal.00050.wav', 'metal.00051.wav', 'metal.00052.wav', 'metal.00053.wav', 'metal.00054.wav', 'metal.00055.wav', 'metal.00056.wav', 'metal.00057.wav', 'metal.00058.wav', 'metal.00059.wav', 'metal.00060.wav', 'metal.00061.wav', 'metal.00062.wav', 'metal.00063.wav', 'metal.00064.wav', 'metal.00065.wav', 'metal.00066.wav', 'metal.00067.wav', 'metal.00068.wav', 'metal.00069.wav', 'metal.00070.wav', 'metal.00071.wav', 'metal.00072.wav', 'metal.00073.wav', 'metal.00074.wav', 'metal.00075.wav', 'metal.00076.wav', 'metal.00077.wav', 'metal.00078.wav', 'metal.00079.wav', 'metal.00080.wav', 'metal.00081.wav', 'metal.00082.wav', 'metal.00083.wav', 'metal.00084.wav', 'metal.00085.wav', 'metal.00086.wav', 'metal.00087.wav', 'metal.00088.wav', 'metal.00089.wav', 'metal.00090.wav', 'metal.00091.wav', 'metal.00092.wav', 'metal.00093.wav', 'metal.00094.wav', 'metal.00095.wav', 'metal.00096.wav', 'metal.00097.wav', 'metal.00098.wav', 'metal.00099.wav', 'rock.00041.wav', 'rock.00042.wav', 'rock.00043.wav', 'rock.00044.wav', 'rock.00045.wav', 'rock.00046.wav', 'rock.00047.wav', 'rock.00048.wav', 'rock.00049.wav', 'rock.00051.wav', 'rock.00052.wav', 'rock.00053.wav', 'rock.00054.wav', 'rock.00055.wav', 'rock.00056.wav', 'rock.00057.wav', 'rock.00058.wav', 'rock.00059.wav', 'rock.00060.wav', 'rock.00061.wav', 'rock.00062.wav', 'rock.00063.wav', 'rock.00064.wav', 'rock.00065.wav', 'rock.00066.wav', 'rock.00067.wav', 'rock.00068.wav', 'rock.00069.wav', 'rock.00070.wav', 'rock.00071.wav', 'rock.00072.wav', 'rock.00073.wav', 'rock.00074.wav', 'rock.00075.wav', 'rock.00076.wav', 'rock.00077.wav', 'rock.00078.wav', 'rock.00079.wav', 'rock.00080.wav']\n",
      "2\n",
      "genres_emotion/calm\n",
      "[]\n",
      "['blues.00006.wav', 'blues.00007.wav', 'blues.00011.wav', 'blues.00013.wav', 'blues.00023.wav', 'blues.00029.wav', 'blues.00030.wav', 'blues.00031.wav', 'blues.00033.wav', 'blues.00035.wav', 'blues.00037.wav', 'blues.00049.wav', 'blues.00052.wav', 'blues.00069.wav', 'blues.00077.wav', 'blues.00088.wav', 'blues.00090.wav', 'blues.00092.wav', 'blues.00093.wav', 'blues.00096.wav', 'classical.00000.wav', 'classical.00013.wav', 'classical.00014.wav', 'classical.00029.wav', 'classical.00030.wav', 'classical.00031.wav', 'classical.00036.wav', 'classical.00038.wav', 'classical.00039.wav', 'classical.00057.wav', 'classical.00058.wav', 'classical.00063.wav', 'classical.00064.wav', 'classical.00065.wav', 'classical.00066.wav', 'classical.00067.wav', 'classical.00071.wav', 'classical.00072.wav', 'classical.00073.wav', 'classical.00074.wav', 'country.00002.wav', 'country.00003.wav', 'country.00007.wav', 'country.00008.wav', 'country.00016.wav', 'country.00017.wav', 'country.00018.wav', 'country.00030.wav', 'country.00044.wav', 'country.00046.wav', 'country.00047.wav', 'country.00048.wav', 'country.00049.wav', 'country.00050.wav', 'country.00054.wav', 'country.00055.wav', 'country.00056.wav', 'country.00057.wav', 'country.00059.wav', 'country.00060.wav', 'country.00061.wav', 'country.00086.wav', 'country.00087.wav', 'country.00088.wav', 'country.00089.wav', 'country.00095.wav', 'country.00096.wav', 'disco.00004.wav', 'disco.00005.wav', 'disco.00006.wav', 'disco.00007.wav', 'disco.00015.wav', 'disco.00034.wav', 'hiphop.00043.wav', 'jazz.00052.wav', 'jazz.00053.wav', 'jazz.00054.wav', 'jazz.00055.wav', 'jazz.00056.wav', 'jazz.00057.wav', 'jazz.00058.wav', 'jazz.00060.wav', 'jazz.00061.wav', 'jazz.00062.wav', 'jazz.00063.wav', 'jazz.00064.wav', 'jazz.00065.wav', 'jazz.00069.wav', 'jazz.00072.wav', 'jazz.00076.wav', 'jazz.00077.wav', 'jazz.00078.wav', 'jazz.00079.wav', 'jazz.00080.wav', 'jazz.00081.wav', 'jazz.00082.wav', 'jazz.00083.wav', 'jazz.00084.wav', 'jazz.00085.wav', 'jazz.00086.wav', 'jazz.00088.wav', 'jazz.00089.wav', 'jazz.00090.wav', 'jazz.00095.wav', 'jazz.00096.wav', 'jazz.00097.wav', 'jazz.00098.wav', 'pop.00000.wav', 'pop.00001.wav', 'pop.00002.wav', 'pop.00003.wav', 'pop.00004.wav', 'pop.00005.wav', 'pop.00006.wav', 'pop.00007.wav', 'pop.00008.wav', 'pop.00009.wav', 'pop.00010.wav', 'pop.00011.wav', 'pop.00012.wav', 'pop.00013.wav', 'pop.00014.wav', 'pop.00015.wav', 'pop.00016.wav', 'pop.00017.wav', 'pop.00018.wav', 'pop.00019.wav', 'pop.00020.wav', 'pop.00021.wav', 'pop.00022.wav', 'pop.00023.wav', 'pop.00024.wav', 'pop.00025.wav', 'pop.00026.wav', 'pop.00027.wav', 'pop.00028.wav', 'pop.00029.wav', 'reggae.00000.wav', 'reggae.00001.wav', 'reggae.00002.wav', 'reggae.00003.wav', 'reggae.00004.wav', 'reggae.00005.wav', 'reggae.00006.wav', 'reggae.00007.wav', 'reggae.00008.wav', 'reggae.00009.wav', 'reggae.00010.wav', 'reggae.00011.wav', 'reggae.00012.wav', 'reggae.00013.wav', 'reggae.00014.wav', 'reggae.00015.wav', 'reggae.00016.wav', 'reggae.00017.wav', 'reggae.00018.wav', 'reggae.00019.wav', 'reggae.00020.wav', 'reggae.00021.wav', 'reggae.00022.wav', 'reggae.00023.wav', 'reggae.00024.wav', 'reggae.00025.wav', 'reggae.00026.wav', 'reggae.00027.wav', 'reggae.00028.wav', 'reggae.00029.wav', 'reggae.00030.wav', 'reggae.00031.wav', 'reggae.00032.wav', 'reggae.00033.wav', 'reggae.00034.wav', 'reggae.00035.wav', 'reggae.00036.wav', 'reggae.00037.wav', 'reggae.00038.wav', 'reggae.00039.wav', 'reggae.00040.wav', 'reggae.00041.wav', 'reggae.00042.wav', 'reggae.00043.wav', 'reggae.00044.wav', 'reggae.00045.wav', 'reggae.00046.wav', 'reggae.00047.wav', 'reggae.00048.wav', 'reggae.00049.wav', 'reggae.00050.wav', 'rock.00000.wav', 'rock.00001.wav', 'rock.00002.wav', 'rock.00003.wav', 'rock.00004.wav', 'rock.00005.wav', 'rock.00006.wav', 'rock.00007.wav', 'rock.00008.wav', 'rock.00009.wav', 'rock.00010.wav', 'rock.00011.wav', 'rock.00012.wav', 'rock.00013.wav', 'rock.00014.wav', 'rock.00015.wav', 'rock.00050.wav']\n",
      "3\n",
      "genres_emotion/happy\n",
      "[]\n",
      "['blues.00000.wav', 'blues.00002.wav', 'blues.00004.wav', 'blues.00008.wav', 'blues.00017.wav', 'blues.00034.wav', 'blues.00045.wav', 'blues.00050.wav', 'blues.00051.wav', 'blues.00055.wav', 'blues.00057.wav', 'blues.00058.wav', 'blues.00059.wav', 'blues.00060.wav', 'blues.00061.wav', 'blues.00064.wav', 'blues.00067.wav', 'blues.00068.wav', 'blues.00073.wav', 'blues.00080.wav', 'blues.00082.wav', 'blues.00083.wav', 'blues.00084.wav', 'blues.00097.wav', 'blues.00099.wav', 'classical.00002.wav', 'classical.00009.wav', 'classical.00010.wav', 'classical.00011.wav', 'classical.00012.wav', 'classical.00017.wav', 'classical.00028.wav', 'classical.00035.wav', 'classical.00043.wav', 'classical.00045.wav', 'classical.00046.wav', 'classical.00048.wav', 'classical.00052.wav', 'classical.00059.wav', 'classical.00060.wav', 'classical.00061.wav', 'classical.00062.wav', 'classical.00068.wav', 'classical.00069.wav', 'classical.00070.wav', 'classical.00090.wav', 'classical.00091.wav', 'classical.00092.wav', 'classical.00093.wav', 'classical.00094.wav', 'classical.00095.wav', 'country.00001.wav', 'country.00012.wav', 'country.00013.wav', 'country.00014.wav', 'country.00015.wav', 'country.00025.wav', 'country.00026.wav', 'country.00027.wav', 'country.00028.wav', 'country.00029.wav', 'country.00031.wav', 'country.00033.wav', 'country.00034.wav', 'country.00035.wav', 'country.00045.wav', 'country.00053.wav', 'country.00058.wav', 'country.00062.wav', 'country.00066.wav', 'country.00070.wav', 'country.00071.wav', 'country.00072.wav', 'country.00073.wav', 'country.00076.wav', 'country.00077.wav', 'country.00078.wav', 'country.00079.wav', 'country.00080.wav', 'country.00081.wav', 'country.00082.wav', 'country.00083.wav', 'country.00084.wav', 'country.00085.wav', 'country.00097.wav', 'country.00098.wav', 'country.00099.wav', 'disco.00000.wav', 'disco.00002.wav', 'disco.00003.wav', 'disco.00009.wav', 'disco.00011.wav', 'disco.00012.wav', 'disco.00013.wav', 'disco.00014.wav', 'disco.00016.wav', 'disco.00017.wav', 'disco.00018.wav', 'disco.00020.wav', 'disco.00022.wav', 'disco.00023.wav', 'disco.00024.wav', 'disco.00025.wav', 'disco.00026.wav', 'disco.00027.wav', 'disco.00028.wav', 'disco.00029.wav', 'disco.00030.wav', 'disco.00031.wav', 'disco.00032.wav', 'disco.00033.wav', 'disco.00035.wav', 'disco.00036.wav', 'disco.00037.wav', 'disco.00038.wav', 'disco.00039.wav', 'disco.00040.wav', 'disco.00041.wav', 'disco.00042.wav', 'disco.00043.wav', 'disco.00044.wav', 'disco.00045.wav', 'disco.00046.wav', 'disco.00047.wav', 'disco.00048.wav', 'hiphop.00000.wav', 'hiphop.00004.wav', 'hiphop.00006.wav', 'hiphop.00007.wav', 'hiphop.00026.wav', 'hiphop.00027.wav', 'hiphop.00028.wav', 'hiphop.00029.wav', 'hiphop.00030.wav', 'hiphop.00031.wav', 'hiphop.00032.wav', 'hiphop.00033.wav', 'hiphop.00035.wav', 'hiphop.00036.wav', 'hiphop.00037.wav', 'hiphop.00039.wav', 'hiphop.00040.wav', 'hiphop.00042.wav', 'hiphop.00044.wav', 'hiphop.00045.wav', 'hiphop.00046.wav', 'hiphop.00047.wav', 'hiphop.00048.wav', 'hiphop.00050.wav', 'hiphop.00051.wav', 'hiphop.00052.wav', 'hiphop.00053.wav', 'hiphop.00054.wav', 'hiphop.00071.wav', 'hiphop.00072.wav', 'hiphop.00073.wav', 'hiphop.00074.wav', 'hiphop.00075.wav', 'hiphop.00076.wav', 'hiphop.00077.wav', 'hiphop.00078.wav', 'jazz.00000.wav', 'jazz.00002.wav', 'jazz.00003.wav', 'jazz.00004.wav', 'jazz.00005.wav', 'jazz.00006.wav', 'jazz.00007.wav', 'jazz.00008.wav', 'jazz.00011.wav', 'jazz.00012.wav', 'jazz.00013.wav', 'jazz.00014.wav', 'jazz.00015.wav', 'jazz.00016.wav', 'jazz.00017.wav', 'jazz.00021.wav', 'jazz.00023.wav', 'jazz.00024.wav', 'jazz.00025.wav', 'jazz.00027.wav', 'jazz.00028.wav', 'jazz.00029.wav', 'jazz.00034.wav', 'jazz.00035.wav', 'jazz.00036.wav', 'jazz.00037.wav', 'jazz.00038.wav', 'jazz.00039.wav', 'jazz.00041.wav', 'jazz.00042.wav', 'jazz.00043.wav', 'jazz.00046.wav', 'jazz.00047.wav', 'jazz.00048.wav', 'jazz.00050.wav', 'jazz.00051.wav', 'pop.00030.wav', 'pop.00031.wav', 'pop.00032.wav', 'pop.00033.wav', 'pop.00034.wav', 'pop.00035.wav', 'pop.00036.wav', 'pop.00037.wav', 'pop.00038.wav', 'pop.00039.wav', 'pop.00040.wav', 'pop.00041.wav', 'pop.00042.wav', 'pop.00043.wav', 'pop.00044.wav', 'pop.00045.wav', 'pop.00046.wav', 'pop.00047.wav', 'pop.00048.wav', 'pop.00049.wav', 'pop.00050.wav', 'rock.00016.wav', 'rock.00017.wav', 'rock.00018.wav', 'rock.00019.wav', 'rock.00020.wav', 'rock.00021.wav', 'rock.00022.wav', 'rock.00023.wav', 'rock.00024.wav', 'rock.00025.wav', 'rock.00026.wav', 'rock.00027.wav', 'rock.00028.wav', 'rock.00029.wav', 'rock.00030.wav', 'rock.00031.wav', 'rock.00032.wav', 'rock.00033.wav', 'rock.00034.wav', 'rock.00035.wav', 'rock.00036.wav', 'rock.00037.wav', 'rock.00038.wav', 'rock.00039.wav', 'rock.00040.wav', 'rock.00081.wav', 'rock.00082.wav', 'rock.00083.wav', 'rock.00084.wav', 'rock.00085.wav', 'rock.00086.wav', 'rock.00087.wav', 'rock.00088.wav', 'rock.00089.wav', 'rock.00090.wav', 'rock.00091.wav', 'rock.00092.wav', 'rock.00093.wav', 'rock.00094.wav', 'rock.00095.wav', 'rock.00096.wav', 'rock.00097.wav', 'rock.00098.wav', 'rock.00099.wav']\n",
      "4\n",
      "genres_emotion/sad\n",
      "[]\n",
      "['blues.00001.wav', 'blues.00003.wav', 'blues.00005.wav', 'blues.00009.wav', 'blues.00010.wav', 'blues.00012.wav', 'blues.00014.wav', 'blues.00015.wav', 'blues.00018.wav', 'blues.00020.wav', 'blues.00021.wav', 'blues.00022.wav', 'blues.00024.wav', 'blues.00025.wav', 'blues.00026.wav', 'blues.00027.wav', 'blues.00028.wav', 'blues.00032.wav', 'blues.00036.wav', 'blues.00038.wav', 'blues.00039.wav', 'blues.00046.wav', 'blues.00047.wav', 'blues.00048.wav', 'blues.00056.wav', 'blues.00063.wav', 'blues.00065.wav', 'blues.00072.wav', 'blues.00075.wav', 'blues.00076.wav', 'blues.00085.wav', 'blues.00086.wav', 'blues.00087.wav', 'blues.00089.wav', 'blues.00091.wav', 'blues.00095.wav', 'blues.00098.wav', 'classical.00001.wav', 'classical.00003.wav', 'classical.00004.wav', 'classical.00005.wav', 'classical.00006.wav', 'classical.00007.wav', 'classical.00008.wav', 'classical.00015.wav', 'classical.00016.wav', 'classical.00019.wav', 'classical.00023.wav', 'classical.00027.wav', 'classical.00032.wav', 'classical.00033.wav', 'classical.00034.wav', 'classical.00040.wav', 'classical.00041.wav', 'classical.00044.wav', 'classical.00047.wav', 'classical.00050.wav', 'classical.00051.wav', 'classical.00075.wav', 'classical.00076.wav', 'classical.00077.wav', 'classical.00078.wav', 'classical.00079.wav', 'classical.00080.wav', 'country.00000.wav', 'country.00004.wav', 'country.00005.wav', 'country.00006.wav', 'country.00010.wav', 'country.00011.wav', 'country.00019.wav', 'country.00020.wav', 'country.00021.wav', 'country.00022.wav', 'country.00023.wav', 'country.00032.wav', 'country.00036.wav', 'country.00037.wav', 'country.00051.wav', 'country.00052.wav', 'country.00063.wav', 'country.00064.wav', 'country.00065.wav', 'country.00067.wav', 'country.00068.wav', 'country.00069.wav', 'country.00074.wav', 'country.00091.wav', 'country.00093.wav', 'country.00094.wav', 'disco.00010.wav', 'disco.00019.wav', 'hiphop.00055.wav', 'jazz.00001.wav', 'jazz.00009.wav', 'jazz.00018.wav', 'jazz.00019.wav', 'jazz.00020.wav', 'jazz.00022.wav', 'jazz.00026.wav', 'jazz.00030.wav', 'jazz.00032.wav', 'jazz.00033.wav', 'jazz.00040.wav', 'jazz.00044.wav', 'jazz.00045.wav', 'jazz.00049.wav', 'jazz.00059.wav', 'jazz.00067.wav', 'jazz.00068.wav', 'jazz.00070.wav', 'jazz.00071.wav', 'jazz.00074.wav', 'jazz.00087.wav', 'jazz.00091.wav', 'jazz.00092.wav', 'jazz.00093.wav', 'jazz.00094.wav', 'jazz.00099.wav', 'pop.00051.wav', 'pop.00052.wav', 'pop.00053.wav', 'pop.00054.wav', 'pop.00055.wav', 'pop.00056.wav', 'pop.00057.wav', 'pop.00058.wav', 'pop.00059.wav', 'pop.00060.wav', 'pop.00061.wav', 'pop.00062.wav', 'pop.00063.wav', 'pop.00064.wav', 'pop.00065.wav', 'pop.00066.wav', 'pop.00067.wav', 'pop.00068.wav', 'pop.00069.wav', 'pop.00070.wav', 'pop.00071.wav', 'pop.00072.wav', 'pop.00073.wav', 'pop.00074.wav', 'pop.00075.wav', 'pop.00076.wav', 'pop.00077.wav', 'pop.00078.wav', 'pop.00079.wav', 'pop.00080.wav', 'pop.00081.wav', 'pop.00082.wav', 'pop.00083.wav', 'pop.00084.wav', 'pop.00085.wav', 'pop.00086.wav', 'pop.00087.wav', 'pop.00088.wav', 'pop.00089.wav', 'pop.00090.wav', 'pop.00091.wav', 'pop.00092.wav', 'pop.00093.wav', 'pop.00094.wav', 'pop.00095.wav', 'pop.00096.wav', 'pop.00097.wav', 'pop.00098.wav', 'pop.00099.wav', 'reggae.00051.wav', 'reggae.00052.wav', 'reggae.00053.wav', 'reggae.00054.wav', 'reggae.00055.wav', 'reggae.00056.wav', 'reggae.00057.wav', 'reggae.00058.wav', 'reggae.00059.wav', 'reggae.00060.wav', 'reggae.00061.wav', 'reggae.00062.wav', 'reggae.00063.wav', 'reggae.00064.wav', 'reggae.00065.wav', 'reggae.00066.wav', 'reggae.00067.wav', 'reggae.00068.wav', 'reggae.00069.wav', 'reggae.00070.wav', 'reggae.00071.wav', 'reggae.00072.wav', 'reggae.00073.wav', 'reggae.00074.wav', 'reggae.00075.wav', 'reggae.00076.wav', 'reggae.00077.wav', 'reggae.00078.wav', 'reggae.00079.wav', 'reggae.00080.wav', 'reggae.00081.wav', 'reggae.00082.wav', 'reggae.00083.wav', 'reggae.00084.wav', 'reggae.00085.wav', 'reggae.00086.wav', 'reggae.00087.wav', 'reggae.00088.wav', 'reggae.00089.wav', 'reggae.00090.wav', 'reggae.00091.wav', 'reggae.00092.wav', 'reggae.00093.wav', 'reggae.00094.wav', 'reggae.00095.wav', 'reggae.00096.wav', 'reggae.00097.wav', 'reggae.00098.wav', 'reggae.00099.wav']\n"
     ]
    }
   ],
   "source": [
    "for i, (dirpath, dirnames, filenames) in enumerate(os.walk(SOURCE_PATH)):\n",
    "    print(i)\n",
    "    print(dirpath)\n",
    "    print(dirnames)\n",
    "    print(filenames)"
   ]
  },
  {
   "cell_type": "code",
   "execution_count": 16,
   "metadata": {},
   "outputs": [],
   "source": [
    "def prepare_datasets(inputs, targets, split_size):\n",
    "    \n",
    "    # Creating a validation set and a test set.\n",
    "    inputs_train, inputs_val, targets_train, targets_val = train_test_split(inputs, targets, test_size=split_size)\n",
    "    inputs_train, inputs_test, targets_train, targets_test = train_test_split(inputs_train, targets_train, test_size=split_size)\n",
    "    \n",
    "    # Our CNN model expects 3D input shape.\n",
    "    inputs_train = inputs_train[..., np.newaxis]\n",
    "    inputs_val = inputs_val[..., np.newaxis]\n",
    "    inputs_test = inputs_test[..., np.newaxis]\n",
    "    \n",
    "    return inputs_train, inputs_val, inputs_test, targets_train, targets_val, targets_test"
   ]
  },
  {
   "cell_type": "code",
   "execution_count": 120,
   "metadata": {},
   "outputs": [],
   "source": [
    "def design_model(input_shape):\n",
    "\n",
    "    # Let's design the model architecture.\n",
    "    model = tf.keras.models.Sequential([\n",
    "        \n",
    "        tf.keras.layers.Conv2D(32, (3,3), activation='relu', input_shape=input_shape),\n",
    "        tf.keras.layers.MaxPooling2D((3,3), strides=(2,2), padding='same'),\n",
    "        tf.keras.layers.BatchNormalization(),\n",
    "        \n",
    "        tf.keras.layers.Conv2D(32, (3,3), activation='relu'),\n",
    "        tf.keras.layers.MaxPooling2D((3,3), strides=(2,2), padding='same'),\n",
    "        tf.keras.layers.BatchNormalization(),\n",
    "        \n",
    "        tf.keras.layers.Conv2D(32, (2,2), activation='relu'),\n",
    "        tf.keras.layers.MaxPooling2D((3,3), strides=(2,2), padding='same'),\n",
    "        tf.keras.layers.BatchNormalization(),\n",
    "        tf.keras.layers.Dropout(0.3),\n",
    "        \n",
    "        tf.keras.layers.Flatten(),\n",
    "        tf.keras.layers.Dense(64, activation='relu'), \n",
    "        \n",
    "        tf.keras.layers.Dense(len(np.unique(targets)), activation='softmax')\n",
    "    ])\n",
    "\n",
    "    return model"
   ]
  },
  {
   "cell_type": "code",
   "execution_count": 121,
   "metadata": {},
   "outputs": [],
   "source": [
    "def make_prediction(model, X, y, idx):\n",
    "    \n",
    "    genre_dict = {\n",
    "        0 : \"angry\",\n",
    "        1 : \"calm\",\n",
    "        2 : \"happy\",\n",
    "        3 : \"sad\",\n",
    "        }\n",
    "        \n",
    "    predictions = model.predict(X)\n",
    "    genre = np.argmax(predictions[idx])\n",
    "    \n",
    "    print(\"\\n---Now testing the model for one audio file---\\nThe model predicts: {}, and ground truth is: {}.\\n\".format(genre_dict[genre], genre_dict[y[idx]]))"
   ]
  },
  {
   "cell_type": "code",
   "execution_count": 122,
   "metadata": {},
   "outputs": [],
   "source": [
    "def plot_performance(hist):\n",
    "    fig , ax = plt.subplots(1,2)\n",
    "    acc = hist.history['acc']\n",
    "    val_acc = hist.history['val_acc']\n",
    "    loss = hist.history['loss']\n",
    "    val_loss = hist.history['val_loss']\n",
    "\n",
    "    epochs = range(len(acc))\n",
    "    fig.set_size_inches(20,6)\n",
    "    ax[0].plot(epochs, acc, 'r', label='Training accuracy')\n",
    "    ax[0].plot(epochs, val_acc, 'b', label='Validation accuracy')\n",
    "    ax[0].set_title('Training and validation accuracy')\n",
    "    ax[0].legend()\n",
    "    #ax[0].figure()\n",
    "\n",
    "    ax[1].plot(epochs, loss, 'r', label='Training Loss')\n",
    "    ax[1].plot(epochs, val_loss, 'b', label='Validation Loss')\n",
    "    ax[1].set_title('Training and validation loss')\n",
    "    ax[1].legend()\n",
    "\n",
    "    plt.show()"
   ]
  },
  {
   "cell_type": "code",
   "execution_count": 123,
   "metadata": {},
   "outputs": [
    {
     "name": "stdout",
     "output_type": "stream",
     "text": [
      "Model: \"sequential_6\"\n",
      "_________________________________________________________________\n",
      "Layer (type)                 Output Shape              Param #   \n",
      "=================================================================\n",
      "conv2d_18 (Conv2D)           (None, 123, 11, 32)       320       \n",
      "_________________________________________________________________\n",
      "max_pooling2d_18 (MaxPooling (None, 62, 6, 32)         0         \n",
      "_________________________________________________________________\n",
      "batch_normalization_18 (Batc (None, 62, 6, 32)         128       \n",
      "_________________________________________________________________\n",
      "conv2d_19 (Conv2D)           (None, 60, 4, 32)         9248      \n",
      "_________________________________________________________________\n",
      "max_pooling2d_19 (MaxPooling (None, 30, 2, 32)         0         \n",
      "_________________________________________________________________\n",
      "batch_normalization_19 (Batc (None, 30, 2, 32)         128       \n",
      "_________________________________________________________________\n",
      "conv2d_20 (Conv2D)           (None, 29, 1, 32)         4128      \n",
      "_________________________________________________________________\n",
      "max_pooling2d_20 (MaxPooling (None, 15, 1, 32)         0         \n",
      "_________________________________________________________________\n",
      "batch_normalization_20 (Batc (None, 15, 1, 32)         128       \n",
      "_________________________________________________________________\n",
      "dropout_6 (Dropout)          (None, 15, 1, 32)         0         \n",
      "_________________________________________________________________\n",
      "flatten_6 (Flatten)          (None, 480)               0         \n",
      "_________________________________________________________________\n",
      "dense_14 (Dense)             (None, 64)                30784     \n",
      "_________________________________________________________________\n",
      "dense_15 (Dense)             (None, 4)                 260       \n",
      "=================================================================\n",
      "Total params: 45,124\n",
      "Trainable params: 44,932\n",
      "Non-trainable params: 192\n",
      "_________________________________________________________________\n",
      "Epoch 1/50\n",
      "100/100 [==============================] - 4s 39ms/step - loss: 1.3621 - acc: 0.4347 - val_loss: 1.7015 - val_acc: 0.3070\n",
      "Epoch 2/50\n",
      "100/100 [==============================] - 4s 36ms/step - loss: 1.1704 - acc: 0.4905 - val_loss: 1.1322 - val_acc: 0.4935\n",
      "Epoch 3/50\n",
      "100/100 [==============================] - 4s 37ms/step - loss: 1.0876 - acc: 0.5248 - val_loss: 1.1524 - val_acc: 0.4945\n",
      "Epoch 4/50\n",
      "100/100 [==============================] - 4s 36ms/step - loss: 1.0349 - acc: 0.5545 - val_loss: 1.1615 - val_acc: 0.4920\n",
      "Epoch 5/50\n",
      "100/100 [==============================] - 4s 36ms/step - loss: 0.9867 - acc: 0.5767 - val_loss: 1.0590 - val_acc: 0.5390\n",
      "Epoch 6/50\n",
      "100/100 [==============================] - 4s 36ms/step - loss: 0.9467 - acc: 0.5923 - val_loss: 1.0167 - val_acc: 0.5515\n",
      "Epoch 7/50\n",
      "100/100 [==============================] - 4s 37ms/step - loss: 0.9112 - acc: 0.6141 - val_loss: 1.0063 - val_acc: 0.5590\n",
      "Epoch 8/50\n",
      "100/100 [==============================] - 4s 37ms/step - loss: 0.8814 - acc: 0.6309 - val_loss: 1.0171 - val_acc: 0.5580\n",
      "Epoch 9/50\n",
      "100/100 [==============================] - 4s 36ms/step - loss: 0.8597 - acc: 0.6372 - val_loss: 1.0375 - val_acc: 0.5825\n",
      "Epoch 10/50\n",
      "100/100 [==============================] - 4s 36ms/step - loss: 0.8157 - acc: 0.6659 - val_loss: 1.0319 - val_acc: 0.5550\n",
      "Epoch 11/50\n",
      "100/100 [==============================] - 4s 36ms/step - loss: 0.7876 - acc: 0.6720 - val_loss: 1.0605 - val_acc: 0.5655\n",
      "Epoch 12/50\n",
      "100/100 [==============================] - 4s 37ms/step - loss: 0.7699 - acc: 0.6825 - val_loss: 1.0593 - val_acc: 0.5600\n",
      "Epoch 13/50\n",
      "100/100 [==============================] - 4s 37ms/step - loss: 0.7481 - acc: 0.6948 - val_loss: 1.0235 - val_acc: 0.5625\n",
      "Epoch 14/50\n",
      "100/100 [==============================] - 4s 36ms/step - loss: 0.7306 - acc: 0.6980 - val_loss: 0.9807 - val_acc: 0.5855\n",
      "Epoch 15/50\n",
      "100/100 [==============================] - 4s 37ms/step - loss: 0.6941 - acc: 0.7145 - val_loss: 1.0168 - val_acc: 0.5860\n",
      "Epoch 16/50\n",
      "100/100 [==============================] - 4s 37ms/step - loss: 0.6865 - acc: 0.7144 - val_loss: 0.9840 - val_acc: 0.5880\n",
      "Epoch 17/50\n",
      "100/100 [==============================] - 4s 37ms/step - loss: 0.6631 - acc: 0.7311 - val_loss: 1.0727 - val_acc: 0.5940\n",
      "Epoch 18/50\n",
      "100/100 [==============================] - 4s 37ms/step - loss: 0.6333 - acc: 0.7495 - val_loss: 1.0575 - val_acc: 0.5820\n",
      "Epoch 19/50\n",
      "100/100 [==============================] - 4s 36ms/step - loss: 0.6278 - acc: 0.7494 - val_loss: 0.9906 - val_acc: 0.6140\n",
      "Epoch 20/50\n",
      "100/100 [==============================] - 4s 37ms/step - loss: 0.6064 - acc: 0.7647 - val_loss: 1.0335 - val_acc: 0.5850\n",
      "Epoch 21/50\n",
      "100/100 [==============================] - 4s 37ms/step - loss: 0.5962 - acc: 0.7600 - val_loss: 1.0778 - val_acc: 0.5830\n",
      "Epoch 22/50\n",
      "100/100 [==============================] - 4s 39ms/step - loss: 0.5703 - acc: 0.7723 - val_loss: 1.2345 - val_acc: 0.5780\n",
      "Epoch 23/50\n",
      "100/100 [==============================] - 4s 39ms/step - loss: 0.5500 - acc: 0.7841 - val_loss: 1.1682 - val_acc: 0.5930\n",
      "Epoch 24/50\n",
      "100/100 [==============================] - 4s 42ms/step - loss: 0.5416 - acc: 0.7819 - val_loss: 1.1013 - val_acc: 0.6010\n",
      "Epoch 25/50\n",
      "100/100 [==============================] - 4s 43ms/step - loss: 0.5173 - acc: 0.7975 - val_loss: 1.0826 - val_acc: 0.5905\n",
      "Epoch 26/50\n",
      "100/100 [==============================] - 4s 40ms/step - loss: 0.5078 - acc: 0.8003 - val_loss: 1.1630 - val_acc: 0.6000\n",
      "Epoch 27/50\n",
      "100/100 [==============================] - 4s 37ms/step - loss: 0.5046 - acc: 0.7989 - val_loss: 1.0771 - val_acc: 0.6120\n",
      "Epoch 28/50\n",
      "100/100 [==============================] - 4s 41ms/step - loss: 0.4829 - acc: 0.8122 - val_loss: 1.2383 - val_acc: 0.5955\n",
      "Epoch 29/50\n",
      "100/100 [==============================] - 4s 39ms/step - loss: 0.4847 - acc: 0.8114 - val_loss: 1.2060 - val_acc: 0.5840\n",
      "Epoch 30/50\n",
      "100/100 [==============================] - 4s 40ms/step - loss: 0.4763 - acc: 0.8150 - val_loss: 1.1496 - val_acc: 0.6005\n",
      "Epoch 31/50\n",
      "100/100 [==============================] - 4s 37ms/step - loss: 0.4507 - acc: 0.8253 - val_loss: 1.1736 - val_acc: 0.5900\n",
      "Epoch 32/50\n",
      "100/100 [==============================] - 4s 37ms/step - loss: 0.4380 - acc: 0.8327 - val_loss: 1.3113 - val_acc: 0.5965\n",
      "Epoch 33/50\n",
      "100/100 [==============================] - 4s 38ms/step - loss: 0.4378 - acc: 0.8264 - val_loss: 1.1714 - val_acc: 0.5945\n",
      "Epoch 34/50\n",
      "100/100 [==============================] - 4s 37ms/step - loss: 0.4225 - acc: 0.8375 - val_loss: 1.2618 - val_acc: 0.5940\n",
      "Epoch 35/50\n",
      "100/100 [==============================] - 4s 39ms/step - loss: 0.4134 - acc: 0.8358 - val_loss: 1.4012 - val_acc: 0.5785\n",
      "Epoch 36/50\n",
      "100/100 [==============================] - 4s 39ms/step - loss: 0.4028 - acc: 0.8498 - val_loss: 1.2576 - val_acc: 0.5975\n",
      "Epoch 37/50\n",
      "100/100 [==============================] - 4s 36ms/step - loss: 0.3964 - acc: 0.8489 - val_loss: 1.1476 - val_acc: 0.5975\n",
      "Epoch 38/50\n",
      "100/100 [==============================] - 4s 35ms/step - loss: 0.3865 - acc: 0.8525 - val_loss: 1.2582 - val_acc: 0.5970\n",
      "Epoch 39/50\n",
      "100/100 [==============================] - 4s 36ms/step - loss: 0.3957 - acc: 0.8423 - val_loss: 1.2817 - val_acc: 0.6025\n",
      "Epoch 40/50\n",
      "100/100 [==============================] - 4s 41ms/step - loss: 0.3847 - acc: 0.8534 - val_loss: 1.3199 - val_acc: 0.5910\n",
      "Epoch 41/50\n",
      "100/100 [==============================] - 4s 40ms/step - loss: 0.3607 - acc: 0.8612 - val_loss: 1.3532 - val_acc: 0.5955\n",
      "Epoch 42/50\n",
      "100/100 [==============================] - 4s 41ms/step - loss: 0.3665 - acc: 0.8587 - val_loss: 1.2549 - val_acc: 0.6075\n",
      "Epoch 43/50\n",
      "100/100 [==============================] - 4s 38ms/step - loss: 0.3617 - acc: 0.8598 - val_loss: 1.3012 - val_acc: 0.5925\n",
      "Epoch 44/50\n",
      "100/100 [==============================] - 4s 39ms/step - loss: 0.3409 - acc: 0.8678 - val_loss: 1.3517 - val_acc: 0.5910\n",
      "Epoch 45/50\n",
      "100/100 [==============================] - 4s 36ms/step - loss: 0.3522 - acc: 0.8622 - val_loss: 1.3794 - val_acc: 0.5930\n",
      "Epoch 46/50\n",
      "100/100 [==============================] - 4s 35ms/step - loss: 0.3277 - acc: 0.8731 - val_loss: 1.3243 - val_acc: 0.6025\n",
      "Epoch 47/50\n",
      "100/100 [==============================] - 4s 36ms/step - loss: 0.3256 - acc: 0.8753 - val_loss: 1.2721 - val_acc: 0.6155\n",
      "Epoch 48/50\n",
      "100/100 [==============================] - 4s 38ms/step - loss: 0.3226 - acc: 0.8772 - val_loss: 1.3723 - val_acc: 0.5975\n",
      "Epoch 49/50\n",
      "100/100 [==============================] - 4s 40ms/step - loss: 0.3143 - acc: 0.8828 - val_loss: 1.4003 - val_acc: 0.5955\n",
      "Epoch 50/50\n",
      "100/100 [==============================] - 4s 38ms/step - loss: 0.3081 - acc: 0.8827 - val_loss: 1.4796 - val_acc: 0.5960\n"
     ]
    },
    {
     "data": {
      "image/png": "[encoded data removed]",
      "text/plain": [
       "<Figure size 1440x432 with 2 Axes>"
      ]
     },
     "metadata": {
      "needs_background": "light"
     },
     "output_type": "display_data"
    },
    {
     "name": "stdout",
     "output_type": "stream",
     "text": [
      "\n",
      "---Now testing the model for one audio file---\n",
      "The model predicts: happy, and ground truth is: happy.\n",
      "\n"
     ]
    }
   ],
   "source": [
    "if __name__ == \"__main__\":\n",
    "\n",
    "    #preprocess_data(source_path=SOURCE_PATH, json_path=JSON_PATH)\n",
    "    \n",
    "    inputs, targets = load_data(json_path=JSON_PATH)\n",
    "    \n",
    "    Xtrain, Xval, Xtest, ytrain, yval, ytest = prepare_datasets(inputs, targets, 0.2)\n",
    "\n",
    "    input_shape = (Xtrain.shape[1], Xtrain.shape[2], 1)\n",
    "    model = design_model(input_shape)\n",
    "\n",
    "    # Selection of the optimizer, loss type and metrics for performance evaluation.\n",
    "    model.compile(optimizer = tf.keras.optimizers.RMSprop(learning_rate=0.001),\n",
    "                     loss='sparse_categorical_crossentropy',\n",
    "                     metrics = ['acc']\n",
    "                     )\n",
    "\n",
    "    model.summary()\n",
    "\n",
    "    #Training the model.\n",
    "    history = model.fit(Xtrain, ytrain,\n",
    "                        validation_data=(Xval, yval),\n",
    "                        epochs=50,\n",
    "                        batch_size=64\n",
    "                        )\n",
    "\n",
    "    plot_performance(history)\n",
    "\n",
    "    # Testing the model on never seen before data.\n",
    "    make_prediction(model, Xtest, ytest, 24)"
   ]
  },
  {
   "cell_type": "code",
   "execution_count": 124,
   "metadata": {},
   "outputs": [
    {
     "name": "stdout",
     "output_type": "stream",
     "text": [
      "\n",
      "---Now testing the model for one audio file---\n",
      "The model predicts: calm, and ground truth is: calm.\n",
      "\n"
     ]
    }
   ],
   "source": [
    "make_prediction(model, Xtest, ytest, 50)"
   ]
  },
  {
   "cell_type": "code",
   "execution_count": 125,
   "metadata": {},
   "outputs": [],
   "source": [
    "y_pred = model.predict(Xtest)\n",
    "yp = []\n",
    "for i in y_pred:\n",
    "    genre1 = np.argmax(i)\n",
    "    yp.append(genre1)"
   ]
  },
  {
   "cell_type": "code",
   "execution_count": 126,
   "metadata": {},
   "outputs": [
    {
     "name": "stdout",
     "output_type": "stream",
     "text": [
      "50/50 [==============================] - 0s 5ms/step - loss: 1.4637 - acc: 0.6131\n"
     ]
    }
   ],
   "source": [
    "c4=model.evaluate(Xtest,ytest)\n",
    "accuracy = c4*100\n"
   ]
  },
  {
   "cell_type": "code",
   "execution_count": 127,
   "metadata": {},
   "outputs": [
    {
     "data": {
      "text/plain": [
       "(6400, 125, 13, 1)"
      ]
     },
     "execution_count": 127,
     "metadata": {},
     "output_type": "execute_result"
    }
   ],
   "source": [
    "Xtrain.shape"
   ]
  },
  {
   "cell_type": "code",
   "execution_count": 128,
   "metadata": {},
   "outputs": [],
   "source": [
    "genr = [\"angry\",\"calm\",\"happy\",\"sad\"]"
   ]
  },
  {
   "cell_type": "code",
   "execution_count": 129,
   "metadata": {},
   "outputs": [],
   "source": [
    "genre_dict = {\n",
    "        0 : \"angry\",\n",
    "        1 : \"calm\",\n",
    "        2 : \"happy\",\n",
    "        3 : \"sad\",\n",
    "        }"
   ]
  },
  {
   "cell_type": "code",
   "execution_count": 130,
   "metadata": {},
   "outputs": [
    {
     "data": {
      "text/plain": [
       "(1600,)"
      ]
     },
     "execution_count": 130,
     "metadata": {},
     "output_type": "execute_result"
    }
   ],
   "source": [
    "ytest.shape"
   ]
  },
  {
   "cell_type": "code",
   "execution_count": 131,
   "metadata": {},
   "outputs": [],
   "source": [
    "ytest_n = []\n",
    "yp_n = []\n",
    "for i in range(ytest.shape[0]):\n",
    "    ytest_n.append(genre_dict[ytest[i]])\n",
    "    yp_n.append(genre_dict[yp[i]])"
   ]
  },
  {
   "cell_type": "code",
   "execution_count": 132,
   "metadata": {},
   "outputs": [
    {
     "data": {
      "image/png": "[encoded data removed]",
      "text/plain": [
       "<Figure size 288x288 with 2 Axes>"
      ]
     },
     "metadata": {
      "needs_background": "light"
     },
     "output_type": "display_data"
    }
   ],
   "source": [
    "cm = confusion_matrix(ytest, yp)\n",
    "plt.figure(figsize = (4, 4))\n",
    "cm = pd.DataFrame(cm , index = [i for i in genr] , columns = [i for i in genr])\n",
    "sns.heatmap(cm, linecolor='white', cmap='Blues', linewidth=1, annot=True, fmt='')\n",
    "plt.title('Confusion Matrix', size=20)\n",
    "plt.xlabel('Predicted Labels', size=14)\n",
    "plt.ylabel('Actual Labels', size=14)\n",
    "plt.show()"
   ]
  },
  {
   "cell_type": "code",
   "execution_count": 133,
   "metadata": {},
   "outputs": [
    {
     "name": "stdout",
     "output_type": "stream",
     "text": [
      "              precision    recall  f1-score   support\n",
      "\n",
      "       angry       0.75      0.75      0.75       533\n",
      "        calm       0.48      0.57      0.52       308\n",
      "       happy       0.55      0.54      0.54       428\n",
      "         sad       0.63      0.53      0.57       331\n",
      "\n",
      "    accuracy                           0.61      1600\n",
      "   macro avg       0.60      0.60      0.60      1600\n",
      "weighted avg       0.62      0.61      0.61      1600\n",
      "\n"
     ]
    }
   ],
   "source": [
    "print(classification_report(ytest_n, yp_n))"
   ]
  },
  {
   "cell_type": "code",
   "execution_count": 137,
   "metadata": {},
   "outputs": [],
   "source": [
    "import visualkeras"
   ]
  },
  {
   "cell_type": "code",
   "execution_count": 139,
   "metadata": {},
   "outputs": [],
   "source": [
    "from keras.models import load_model\n",
    "\n",
    "model.save('my_model.h5')"
   ]
  },
  {
   "cell_type": "code",
   "execution_count": null,
   "metadata": {},
   "outputs": [],
   "source": []
  }
 ],
 "metadata": {
  "kernelspec": {
   "display_name": "Python 3",
   "language": "python",
   "name": "python3"
  },
  "language_info": {
   "codemirror_mode": {
    "name": "ipython",
    "version": 3
   },
   "file_extension": ".py",
   "mimetype": "text/x-python",
   "name": "python",
   "nbconvert_exporter": "python",
   "pygments_lexer": "ipython3",
   "version": "3.8.3"
  }
 },
 "nbformat": 4,
 "nbformat_minor": 4
}
